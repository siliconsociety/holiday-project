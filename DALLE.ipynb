{
 "cells": [
  {
   "metadata": {},
   "cell_type": "code",
   "source": [
    "import requests\n",
    "from PIL import Image\n",
    "from io import BytesIO\n",
    "from IPython.display import display, clear_output\n",
    "import ipywidgets as widgets"
   ],
   "id": "ebae3b7380d5cea7",
   "outputs": [],
   "execution_count": null
  },
  {
   "metadata": {},
   "cell_type": "code",
   "source": "API_URL = \"http://127.0.0.1:8000/generate\"",
   "id": "35797bd0014021e9",
   "outputs": [],
   "execution_count": null
  },
  {
   "metadata": {},
   "cell_type": "code",
   "source": [
    "def generate_image(prompt, size, filename):\n",
    "    payload = {\n",
    "        \"prompt\": prompt,\n",
    "        \"size\": size,\n",
    "        \"filename\": filename,\n",
    "    }\n",
    "    print(\"Generating image... Please wait.\")\n",
    "\n",
    "    response = requests.post(API_URL, json=payload)\n",
    "    if response.status_code == 200:\n",
    "        print(f\"Image '{filename}' generated successfully!\")\n",
    "        image_data = BytesIO(response.content)\n",
    "        return Image.open(image_data)\n",
    "    else:\n",
    "        print(\"Error:\", response.json())\n",
    "        return None\n",
    "\n",
    "\n",
    "def save_image_locally(image, filename):\n",
    "    image.save(filename)\n",
    "    print(f\"Image saved locally as '{filename}'.\")\n"
   ],
   "id": "6e255cdb0711061",
   "outputs": [],
   "execution_count": null
  },
  {
   "cell_type": "code",
   "id": "initial_id",
   "metadata": {
    "collapsed": true
   },
   "source": [
    "prompt_widget = widgets.Text(\n",
    "    value=\"A cozy cabin in the snow with northern lights\",\n",
    "    description=\"Prompt:\",\n",
    "    style={\"description_width\": \"initial\"},\n",
    "    layout=widgets.Layout(width=\"80%\")\n",
    ")\n",
    "\n",
    "size_widget = widgets.Dropdown(\n",
    "    options=[\"1024x1024\", \"1792x1024\", \"1024x1792\"],\n",
    "    value=\"1024x1024\",\n",
    "    description=\"Size:\",\n",
    "    style={\"description_width\": \"initial\"}\n",
    ")\n",
    "\n",
    "filename_widget = widgets.Text(\n",
    "    value=\"image.png\",\n",
    "    description=\"Filename:\",\n",
    "    style={\"description_width\": \"initial\"}\n",
    ")\n",
    "\n",
    "button_generate = widgets.Button(description=\"Generate Image\", button_style=\"success\")\n",
    "button_save = widgets.Button(description=\"Save Image\", button_style=\"info\", disabled=True)\n",
    "output = widgets.Output()\n",
    "\n",
    "last_generated_image = None\n",
    "\n",
    "def on_generate_click(b):\n",
    "    global last_generated_image\n",
    "    with output:\n",
    "        clear_output(wait=True)\n",
    "        image = generate_image(\n",
    "            prompt_widget.value,\n",
    "            size_widget.value,\n",
    "            filename_widget.value,\n",
    "        )\n",
    "        if image:\n",
    "            last_generated_image = image\n",
    "            display(image)\n",
    "            button_save.disabled = False\n",
    "\n",
    "button_generate.on_click(on_generate_click)\n",
    "\n",
    "\n",
    "def on_save_click(b):\n",
    "    global last_generated_image\n",
    "    if last_generated_image:\n",
    "        filename = filename_widget.value\n",
    "        save_image_locally(last_generated_image, filename)\n",
    "    else:\n",
    "        print(\"No image to save. Please generate an image first.\")\n",
    "\n",
    "button_save.on_click(on_save_click)\n",
    "\n",
    "widgets.VBox([\n",
    "    prompt_widget,\n",
    "    size_widget,\n",
    "    filename_widget,\n",
    "    widgets.HBox([button_generate, button_save]),\n",
    "    output\n",
    "])"
   ],
   "outputs": [],
   "execution_count": null
  },
  {
   "metadata": {},
   "cell_type": "code",
   "source": "",
   "id": "e2f85ae7e9712413",
   "outputs": [],
   "execution_count": null
  }
 ],
 "metadata": {
  "kernelspec": {
   "display_name": "Python 3",
   "language": "python",
   "name": "python3"
  },
  "language_info": {
   "codemirror_mode": {
    "name": "ipython",
    "version": 2
   },
   "file_extension": ".py",
   "mimetype": "text/x-python",
   "name": "python",
   "nbconvert_exporter": "python",
   "pygments_lexer": "ipython2",
   "version": "2.7.6"
  }
 },
 "nbformat": 4,
 "nbformat_minor": 5
}
